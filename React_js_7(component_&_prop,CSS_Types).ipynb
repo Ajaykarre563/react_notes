{
  "nbformat": 4,
  "nbformat_minor": 0,
  "metadata": {
    "colab": {
      "provenance": []
    },
    "kernelspec": {
      "name": "python3",
      "display_name": "Python 3"
    },
    "language_info": {
      "name": "python"
    }
  },
  "cells": [
    {
      "cell_type": "markdown",
      "source": [
        "#**What is a Component?**\n",
        "A component is like a small reusable piece of a webpage. Think of it as a Lego block that you can use multiple times to build something bigger.\n",
        "\n",
        "For example, if you're making a movie app, you might have a MovieComponent that shows a movie poster and title."
      ],
      "metadata": {
        "id": "9PmjZcd4_vIV"
      }
    },
    {
      "cell_type": "markdown",
      "source": [
        "\n",
        "\n",
        "```\n",
        "const MovieComponent = () => {\n",
        "  return (\n",
        "    <div>\n",
        "      <h2>Movie Name</h2>\n",
        "      <img src=\"movie.jpg\" alt=\"Movie\" />\n",
        "    </div>\n",
        "  );\n",
        "};\n",
        "\n",
        "```\n",
        "\n"
      ],
      "metadata": {
        "id": "9-PBcCQ9__Fg"
      }
    },
    {
      "cell_type": "markdown",
      "source": [
        "# **What are Props?**\n",
        "\n",
        "Props (short for \"properties\") allow you to pass data into a component to make it dynamic. Instead of writing the same thing repeatedly, you send different values using props.\n",
        "\n",
        "Example: Using Props to Make Components Reusable"
      ],
      "metadata": {
        "id": "reA_BI9O_3DW"
      }
    },
    {
      "cell_type": "markdown",
      "source": [
        "\n",
        "\n",
        "```\n",
        "const MovieComponent = (props) => {\n",
        "  return (\n",
        "    <div>\n",
        "      <h2>{props.title}</h2>\n",
        "      <img src={props.image} alt={props.title} />\n",
        "    </div>\n",
        "  );\n",
        "};\n",
        "\n",
        "const App = () => {\n",
        "  return (\n",
        "    <>\n",
        "      <MovieComponent title=\"Avengers\" image=\"avengers.jpg\" />\n",
        "      <MovieComponent title=\"Inception\" image=\"inception.jpg\" />\n",
        "    </>\n",
        "  );\n",
        "};\n",
        "\n",
        "```\n",
        "\n"
      ],
      "metadata": {
        "id": "vC-3_eoyAqx5"
      }
    },
    {
      "cell_type": "markdown",
      "source": [
        "# **Why Use Props?**\n",
        "\n",
        "✅ Makes components reusable (No need to write new code for each movie).\n",
        "\n",
        "✅ Keeps your code clean and efficient.\n",
        "\n",
        "✅ Allows dynamic data handling."
      ],
      "metadata": {
        "id": "3gjHhQmBAZOQ"
      }
    },
    {
      "cell_type": "markdown",
      "source": [
        "\n",
        "\n",
        "```\n",
        "import React from \"react\";\n",
        "\n",
        "// Moviecomponent combines the Titlecomponent and Imagecomponent to display a movie card\n",
        "const Moviecomponent = () => {\n",
        "  return (\n",
        "    <article>\n",
        "      <Titlecomponent /> {/* Displays the movie title */}\n",
        "      <Imagecomponent /> {/* Displays the movie image */}\n",
        "    </article>\n",
        "  );\n",
        "};\n",
        "\n",
        "// Imagecomponent renders an image\n",
        "const Imagecomponent = () => {\n",
        "  return (\n",
        "    <img\n",
        "      src=\"https://www.google.com/images/branding/googlelogo/1x/googlelogo_color_272x92dp.png\"\n",
        "      alt=\"google\"\n",
        "    />\n",
        "  );\n",
        "};\n",
        "\n",
        "// Titlecomponent renders the title of the movie\n",
        "const Titlecomponent = () => {\n",
        "  return <h1>Google</h1>;\n",
        "};\n",
        "\n",
        "// App component renders multiple Moviecomponent instances\n",
        "const App = () => {\n",
        "  return (\n",
        "    <>\n",
        "      <Moviecomponent /> {/* First Moviecomponent instance */}\n",
        "      <Moviecomponent /> {/* Second Moviecomponent instance */}\n",
        "    </>\n",
        "  );\n",
        "};\n",
        "\n",
        "export default App;\n",
        "\n",
        "```\n",
        "\n"
      ],
      "metadata": {
        "id": "tubK7EBq_Qk7"
      }
    },
    {
      "cell_type": "markdown",
      "source": [
        "![Screenshot 2025-02-09 100504.png](data:image/png;base64,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)"
      ],
      "metadata": {
        "id": "I2eow6iW_W6P"
      }
    },
    {
      "cell_type": "markdown",
      "source": [
        "# **What is CSS?**\n",
        "\n",
        "CSS (Cascading Style Sheets) is a stylesheet language used to control the presentation and layout of HTML elements. It allows developers to apply styles (like colors, fonts, spacing, and positioning) to web pages, ensuring a consistent and visually appealing design."
      ],
      "metadata": {
        "id": "Qu10l9qGREm0"
      }
    },
    {
      "cell_type": "markdown",
      "source": [
        "# **Types of CSS**\n",
        "\n",
        "**There are three main types of CSS:**\n",
        "\n",
        "Inline CSS\n",
        "\n",
        "Internal CSS\n",
        "\n",
        "External CSS"
      ],
      "metadata": {
        "id": "BaFkC5J7RKDO"
      }
    },
    {
      "cell_type": "markdown",
      "source": [
        "# **Inline CSS**\n",
        "\n",
        "**Definition:** Styles are applied directly within an HTML element using the style attribute.\n",
        "\n",
        "**Use Case:** Best for quick styling of a single element but not recommended for large projects."
      ],
      "metadata": {
        "id": "sN9pmUHmRRwf"
      }
    },
    {
      "cell_type": "markdown",
      "source": [
        "\n",
        "\n",
        "```\n",
        "<h1 style=\"color: blue; font-size: 30px;\">Hello, World!</h1>\n",
        "\n",
        "```\n",
        "\n"
      ],
      "metadata": {
        "id": "3fzJigHXRZZp"
      }
    },
    {
      "cell_type": "markdown",
      "source": [
        "**🔹 Pros:**\n",
        "\n",
        "✔ Easy to use for small changes\n",
        "\n",
        "✔ No need for an external stylesheet"
      ],
      "metadata": {
        "id": "YT5fXGMWRffr"
      }
    },
    {
      "cell_type": "markdown",
      "source": [
        "# **Internal CSS**\n",
        "\n",
        "Definition: Styles are written inside a style tag in the <head> section of an HTML file.\n",
        "\n",
        "Use Case: Useful when styling a single HTML page."
      ],
      "metadata": {
        "id": "_wzAuMTLRkYl"
      }
    },
    {
      "cell_type": "markdown",
      "source": [
        "\n",
        "\n",
        "```\n",
        "<!DOCTYPE html>\n",
        "<html lang=\"en\">\n",
        "<head>\n",
        "    <style>\n",
        "        h1 {\n",
        "            color: red;\n",
        "            font-size: 40px;\n",
        "        }\n",
        "    </style>\n",
        "</head>\n",
        "<body>\n",
        "    <h1>Welcome to CSS</h1>\n",
        "</body>\n",
        "</html>\n",
        "\n",
        "```\n",
        "\n"
      ],
      "metadata": {
        "id": "pFsur223RsfS"
      }
    },
    {
      "cell_type": "markdown",
      "source": [
        "**🔹 Pros:**\n",
        "\n",
        "✔ Better organization than inline CSS\n",
        "\n",
        "✔ Can style multiple elements on the same page"
      ],
      "metadata": {
        "id": "muEApHiERwQE"
      }
    },
    {
      "cell_type": "markdown",
      "source": [
        "# **3. External CSS**\n",
        "\n",
        "Definition: Styles are written in a separate .css file and linked to the HTML file using a import './index.css.\n",
        "\n",
        "Use Case: Best for large-scale web projects."
      ],
      "metadata": {
        "id": "aMqa_odjR1rd"
      }
    },
    {
      "cell_type": "markdown",
      "source": [
        "\n",
        "\n",
        "```\n",
        "/* styles.css */\n",
        "body {\n",
        "    font-family: Arial, sans-serif;\n",
        "    background-color: #f4f4f4;\n",
        "    margin: 0;\n",
        "    padding: 0;\n",
        "    text-align: center;\n",
        "}\n",
        "\n",
        "h1 {\n",
        "    color: blue;\n",
        "    font-size: 40px;\n",
        "}\n",
        "\n",
        ".movie-container {\n",
        "    display: flex;\n",
        "    justify-content: center;\n",
        "    gap: 20px;\n",
        "    margin-top: 20px;\n",
        "}\n",
        "\n",
        ".each-movie {\n",
        "    background-color: white;\n",
        "    border: 1px solid black;\n",
        "    padding: 10px;\n",
        "    width: 200px;\n",
        "    box-shadow: 2px 2px 10px rgba(0, 0, 0, 0.1);\n",
        "}\n",
        "\n",
        "```\n",
        "\n"
      ],
      "metadata": {
        "id": "OHzZC0f1SUHR"
      }
    },
    {
      "cell_type": "markdown",
      "source": [
        "# **Why Use External CSS in React?**\n",
        "\n",
        "✅ Separation of Concerns – Keeps styles separate from component logic.\n",
        "\n",
        "✅ Reusability – Apply the same styles across multiple components.\n",
        "\n",
        "✅ Maintainability – Easier to modify and debug styles in large projects."
      ],
      "metadata": {
        "id": "vXxSkhJRSaZt"
      }
    },
    {
      "cell_type": "markdown",
      "source": [
        "\n",
        "\n",
        "```\n",
        "/my-app\n",
        " ├── src\n",
        " │   ├── App.js\n",
        " │   ├── styles.css\n",
        " │   ├── index.js\n",
        " │   └── components\n",
        " └── public\n",
        "\n",
        "```\n",
        "\n"
      ],
      "metadata": {
        "id": "LZCuHY26SkqS"
      }
    },
    {
      "cell_type": "markdown",
      "source": [
        "# **App.js**"
      ],
      "metadata": {
        "id": "yb4juX38Symc"
      }
    },
    {
      "cell_type": "markdown",
      "source": [
        "\n",
        "\n",
        "```\n",
        "import React from \"react\"; // Import React\n",
        "\n",
        "// Moviecomponent is the main component that contains Titlecomponent and Imagecomponent\n",
        "const Moviecomponent = () => {\n",
        "  return (\n",
        "    <article className=\"each-movie\">\n",
        "      <Titlecomponent />\n",
        "      <Imagecomponent />\n",
        "    </article>\n",
        "  );\n",
        "};\n",
        "\n",
        "// Imagecomponent displays an image with inline styling\n",
        "const Imagecomponent = () => {\n",
        "  return (\n",
        "    <img\n",
        "      src=\"https://www.google.com/images/branding/googlelogo/1x/googlelogo_color_272x92dp.png\"\n",
        "      alt=\"google\"\n",
        "      style={{ width: \"100px\", height: \"50px\" }} // Inline styling applied\n",
        "    />\n",
        "  );\n",
        "};\n",
        "\n",
        "// Titlecomponent displays two headings with different styles\n",
        "const Titlecomponent = () => {\n",
        "  const styles = {\n",
        "    heading: {\n",
        "      color: \"green\",\n",
        "      fontSize: \"30px\",\n",
        "    },\n",
        "    smallheading: {\n",
        "      color: \"green\",\n",
        "      fontSize: \"20px\",\n",
        "    },\n",
        "  };\n",
        "\n",
        "  return (\n",
        "    <>\n",
        "      <h3 style={styles.smallheading}>Ajay Karre</h3>\n",
        "      <h1 style={styles.heading}>AK</h1>\n",
        "    </>\n",
        "  );\n",
        "};\n",
        "\n",
        "// App component renders two instances of Moviecomponent\n",
        "const App = () => {\n",
        "  return (\n",
        "    <section className=\"movie-container\">\n",
        "      <Moviecomponent />\n",
        "      <Moviecomponent />\n",
        "    </section>\n",
        "  );\n",
        "};\n",
        "\n",
        "export default App;\n",
        "\n",
        "```\n",
        "\n"
      ],
      "metadata": {
        "id": "nglhshXoS5ZJ"
      }
    },
    {
      "cell_type": "markdown",
      "source": [
        "# **index.css**"
      ],
      "metadata": {
        "id": "Uuvwv4a6TAJq"
      }
    },
    {
      "cell_type": "markdown",
      "source": [
        "\n",
        "\n",
        "```\n",
        "/* Apply global styles to remove margin, padding, and ensure box-sizing is border-box */\n",
        "* {\n",
        "    margin: 0;\n",
        "    padding: 0;\n",
        "    box-sizing: border-box;\n",
        "}\n",
        "\n",
        "/* Style for <h3> elements */\n",
        "h3 {\n",
        "    color: red;\n",
        "}\n",
        "\n",
        "/* Style for the body */\n",
        "body {\n",
        "    font-family: Arial, Helvetica, sans-serif;\n",
        "    font-size: 100px;\n",
        "    letter-spacing: 1px;\n",
        "}\n",
        "\n",
        "/* Style for .movie-container */\n",
        ".movie-container {\n",
        "    background-color: aliceblue;\n",
        "    width: 100%;\n",
        "    max-width: 1200px;\n",
        "    margin: 3rem auto;\n",
        "    display: flex;\n",
        "    flex-wrap: wrap;\n",
        "    gap: 1rem;\n",
        "    justify-content: center;\n",
        "}\n",
        "\n",
        "/* Style for each movie item */\n",
        ".each-movie {\n",
        "    background-color: white;\n",
        "    border: 1px solid black;\n",
        "    padding: 1rem;\n",
        "    width: calc(50% - 1rem); /* Responsive width */\n",
        "}\n",
        "\n",
        "/* Responsive Grid for Tablets and Larger Screens */\n",
        "@media screen and (min-width: 768px) {\n",
        "    .movie-container {\n",
        "        display: grid;\n",
        "        grid-template-columns: repeat(2, 1fr);\n",
        "        gap: 1rem;\n",
        "    }\n",
        "}\n",
        "\n",
        "\n",
        "```\n",
        "\n"
      ],
      "metadata": {
        "id": "YCAu5_FFTEzN"
      }
    },
    {
      "cell_type": "markdown",
      "source": [
        "![Screenshot 2025-02-09 161144.png](data:image/png;base64,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)"
      ],
      "metadata": {
        "id": "6anrVGAmTRn0"
      }
    },
    {
      "cell_type": "code",
      "execution_count": null,
      "metadata": {
        "id": "VL7PrNkv65YZ"
      },
      "outputs": [],
      "source": []
    }
  ]
}