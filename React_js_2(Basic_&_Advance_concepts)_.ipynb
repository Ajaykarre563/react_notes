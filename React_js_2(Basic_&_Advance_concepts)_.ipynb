{
  "nbformat": 4,
  "nbformat_minor": 0,
  "metadata": {
    "colab": {
      "provenance": []
    },
    "kernelspec": {
      "name": "python3",
      "display_name": "Python 3"
    },
    "language_info": {
      "name": "python"
    }
  },
  "cells": [
    {
      "cell_type": "markdown",
      "source": [
        "# **Basic Concepts of React**\n",
        "\n",
        "1️⃣ Setting Up React"
      ],
      "metadata": {
        "id": "_GNR9vM25AtH"
      }
    },
    {
      "cell_type": "markdown",
      "source": [
        "\n",
        "\n",
        "```\n",
        "<!DOCTYPE html>\n",
        "<html lang=\"en\">\n",
        "<head>\n",
        "    <meta charset=\"UTF-8\">\n",
        "    <meta name=\"viewport\" content=\"width=device-width, initial-scale=1.0\">\n",
        "    <title>React Basic</title>\n",
        "</head>\n",
        "<body>\n",
        "    <div id=\"root\"></div>\n",
        "    <script src=\"https://unpkg.com/react@17/umd/react.development.js\"></script>\n",
        "    <script src=\"https://unpkg.com/react-dom@17/umd/react-dom.development.js\"></script>\n",
        "    <script src=\"https://unpkg.com/babel-standalone@6/babel.min.js\"></script>\n",
        "    <script type=\"text/babel\">\n",
        "        function App() {\n",
        "            return <h1>Hello, React!</h1>;\n",
        "        }\n",
        "        ReactDOM.render(<App />, document.getElementById(\"root\"));\n",
        "    </script>\n",
        "</body>\n",
        "</html>\n",
        "\n",
        "```\n",
        "\n"
      ],
      "metadata": {
        "id": "JQLmmGTG5Noi"
      }
    },
    {
      "cell_type": "markdown",
      "source": [
        "# **2️⃣ JSX (JavaScript XML)**\n",
        "JSX allows us to write HTML-like syntax in JavaScript."
      ],
      "metadata": {
        "id": "3YqKylPE5S88"
      }
    },
    {
      "cell_type": "markdown",
      "source": [
        "\n",
        "\n",
        "```\n",
        "const element = <h1>Hello, JSX!</h1>;\n",
        "\n",
        "```\n",
        "\n"
      ],
      "metadata": {
        "id": "6Cbmmf-O5Xnp"
      }
    },
    {
      "cell_type": "markdown",
      "source": [
        "# **3️⃣ Components in React**\n",
        "\n",
        "In React, components are the building blocks of an application. They allow you to write HTML, CSS, and JavaScript together in a modular way.\n",
        "\n",
        "**A React component:**\n",
        "\n",
        "Encapsulates UI elements\n",
        "\n",
        "Can have its own state and logic\n",
        "\n",
        "Is reusable and composable"
      ],
      "metadata": {
        "id": "Q6NuuokI5bpS"
      }
    },
    {
      "cell_type": "markdown",
      "source": [
        "🔹 Functional Component:"
      ],
      "metadata": {
        "id": "yNs9RFmD5l6e"
      }
    },
    {
      "cell_type": "markdown",
      "source": [
        "\n",
        "\n",
        "```\n",
        "function Greeting() {\n",
        "    return <h1>Hello, World!</h1>;\n",
        "}\n",
        "export default Greeting;\n",
        "\n",
        "```\n",
        "\n"
      ],
      "metadata": {
        "id": "v6yfGKRh5jb7"
      }
    },
    {
      "cell_type": "markdown",
      "source": [
        "🔹 Class Component:"
      ],
      "metadata": {
        "id": "-yXKTdE35tVn"
      }
    },
    {
      "cell_type": "markdown",
      "source": [
        "\n",
        "\n",
        "```\n",
        "import React, { Component } from 'react';\n",
        "\n",
        "class Greeting extends Component {\n",
        "    render() {\n",
        "        return <h1>Hello, World!</h1>;\n",
        "    }\n",
        "}\n",
        "\n",
        "export default Greeting;\n",
        "\n",
        "```\n",
        "\n"
      ],
      "metadata": {
        "id": "pS7LnxFh5v_c"
      }
    },
    {
      "cell_type": "markdown",
      "source": [
        "# **4️⃣ Props in React**\n",
        "\n",
        "Props (short for properties) allow passing data between components."
      ],
      "metadata": {
        "id": "ZKqRMQFa54HQ"
      }
    },
    {
      "cell_type": "markdown",
      "source": [
        "\n",
        "\n",
        "```\n",
        "function Welcome(props) {\n",
        "    return <h1>Hello, {props.name}!</h1>;\n",
        "}\n",
        "\n",
        "// Usage\n",
        "<Welcome name=\"Alice\" />\n",
        "\n",
        "```\n",
        "\n"
      ],
      "metadata": {
        "id": "VAK63rWz58Co"
      }
    },
    {
      "cell_type": "markdown",
      "source": [
        "# **5️⃣ State in React (useState Hook)**\n",
        "\n",
        "State allows components to hold and update data dynamically"
      ],
      "metadata": {
        "id": "uPM0_0NA6BB3"
      }
    },
    {
      "cell_type": "markdown",
      "source": [
        "\n",
        "\n",
        "```\n",
        "import React, { useState } from 'react';\n",
        "\n",
        "function Counter() {\n",
        "    const [count, setCount] = useState(0);\n",
        "\n",
        "    return (\n",
        "        <div>\n",
        "            <p>Count: {count}</p>\n",
        "            <button onClick={() => setCount(count + 1)}>Increase</button>\n",
        "        </div>\n",
        "    );\n",
        "}\n",
        "\n",
        "export default Counter;\n",
        "\n",
        "```\n",
        "\n"
      ],
      "metadata": {
        "id": "vtuHWdMS6FIa"
      }
    },
    {
      "cell_type": "markdown",
      "source": [
        "# **6️⃣ Handling Events**\n",
        "\n",
        "React handles events similar to JavaScript but uses camelCase syntax.\n",
        "\n",
        "jsx\n",
        "Copy\n",
        "Edit\n"
      ],
      "metadata": {
        "id": "0e8D2Q387oMi"
      }
    },
    {
      "cell_type": "markdown",
      "source": [
        "\n",
        "\n",
        "```\n",
        "function ButtonClick() {\n",
        "    function handleClick() {\n",
        "        alert(\"Button clicked!\");\n",
        "    }\n",
        "\n",
        "    return <button onClick={handleClick}>Click Me</button>;\n",
        "}\n",
        "\n",
        "\n",
        "```\n",
        "\n"
      ],
      "metadata": {
        "id": "FQBkq5JQ72Rw"
      }
    },
    {
      "cell_type": "markdown",
      "source": [
        "# **7️⃣ Conditional Rendering**\n",
        "\n",
        "You can conditionally render elements based on logic."
      ],
      "metadata": {
        "id": "9NjQSNnp7_BU"
      }
    },
    {
      "cell_type": "markdown",
      "source": [
        "\n",
        "\n",
        "```\n",
        "function Message(props) {\n",
        "    return props.isLoggedIn ? <h1>Welcome Back!</h1> : <h1>Please Log In</h1>;\n",
        "}\n",
        "\n",
        "```\n",
        "\n"
      ],
      "metadata": {
        "id": "qshYFDgc8Drg"
      }
    },
    {
      "cell_type": "markdown",
      "source": [
        "# **8️⃣ Lists & Keys**\n",
        "\n",
        "Rendering lists in React using .map()."
      ],
      "metadata": {
        "id": "-m5GgQZ78HvX"
      }
    },
    {
      "cell_type": "markdown",
      "source": [
        "\n",
        "\n",
        "```\n",
        "const items = [\"Apple\", \"Banana\", \"Orange\"];\n",
        "const itemList = items.map((item, index) => <li key={index}>{item}</li>);\n",
        "\n",
        "```\n",
        "\n"
      ],
      "metadata": {
        "id": "y9DjqikU8Ltn"
      }
    },
    {
      "cell_type": "markdown",
      "source": [
        "# **9️⃣ Forms in React**\n",
        "\n",
        "Forms in React use controlled components."
      ],
      "metadata": {
        "id": "g_eoqjqZ8QFi"
      }
    },
    {
      "cell_type": "markdown",
      "source": [
        "\n",
        "\n",
        "function FormExample() {\n",
        "    const [name, setName] = useState(\"\");\n",
        "\n",
        "    function handleSubmit(event) {\n",
        "        event.preventDefault();\n",
        "        alert(\"Submitted: \" + name);\n",
        "    }\n",
        "\n",
        "    return (\n",
        "        <form onSubmit={handleSubmit}>\n",
        "            <input type=\"text\" value={name} onChange={(e) => setName(e.target.value)} />\n",
        "            <button type=\"submit\">Submit</button>\n",
        "        </form>\n",
        "    );\n",
        "}\n",
        "\n",
        "```\n",
        "\n"
      ],
      "metadata": {
        "id": "WDhtwCvB8T_c"
      }
    },
    {
      "cell_type": "markdown",
      "source": [
        "# **🔟 useEffect Hook**\n",
        "\n",
        "The useEffect hook handles side effects like fetching data."
      ],
      "metadata": {
        "id": "EENAWffk8Zbx"
      }
    },
    {
      "cell_type": "markdown",
      "source": [
        "\n",
        "\n",
        "```\n",
        "import React, { useState, useEffect } from 'react';\n",
        "\n",
        "function DataFetcher() {\n",
        "    const [data, setData] = useState([]);\n",
        "\n",
        "    useEffect(() => {\n",
        "        fetch(\"https://jsonplaceholder.typicode.com/posts\")\n",
        "            .then(response => response.json())\n",
        "            .then(data => setData(data));\n",
        "    }, []);\n",
        "\n",
        "    return <div>{data.length} Posts Loaded</div>;\n",
        "}\n",
        "\n",
        "```\n",
        "\n"
      ],
      "metadata": {
        "id": "COGCuSR18d59"
      }
    },
    {
      "cell_type": "markdown",
      "source": [
        "# **Advanced Concept of React js**"
      ],
      "metadata": {
        "id": "22fNcgK3BS2E"
      }
    },
    {
      "cell_type": "markdown",
      "source": [
        "# **1. React Component Lifecycle (Class Components) 🏗️**\n",
        "\n",
        "The component lifecycle in React consists of different stages that a component goes through:\n",
        "\n",
        "**Mounting (Component Creation)**\n",
        "\n",
        "constructor()\n",
        "\n",
        "render()\n",
        "\n",
        "componentDidMount() ✅ (Runs after first render, great for API calls)\n",
        "\n",
        "**Updating (When State/Props Change)**\n",
        "\n",
        "shouldComponentUpdate()\n",
        "\n",
        "render()\n",
        "\n",
        "componentDidUpdate() ✅ (Runs after state/props update)\n",
        "\n",
        "**Unmounting (When Component is Removed)**\n",
        "\n",
        "componentWillUnmount() ✅ (Runs before component is destroyed, great for cleanup)"
      ],
      "metadata": {
        "id": "MudVQp25Bed8"
      }
    },
    {
      "cell_type": "markdown",
      "source": [
        "**Example: Lifecycle Methods in Class Component**"
      ],
      "metadata": {
        "id": "emNVGRiOBzLZ"
      }
    },
    {
      "cell_type": "markdown",
      "source": [
        "\n",
        "\n",
        "```\n",
        "import React, { Component } from \"react\";\n",
        "\n",
        "class LifeCycleDemo extends Component {\n",
        "  constructor() {\n",
        "    super();\n",
        "    console.log(\"Constructor: Component is created\");\n",
        "  }\n",
        "\n",
        "  componentDidMount() {\n",
        "    console.log(\"componentDidMount: Component added to DOM ✅\");\n",
        "  }\n",
        "\n",
        "  componentDidUpdate() {\n",
        "    console.log(\"componentDidUpdate: Component updated ✅\");\n",
        "  }\n",
        "\n",
        "  componentWillUnmount() {\n",
        "    console.log(\"componentWillUnmount: Component is removed ✅\");\n",
        "  }\n",
        "\n",
        "  render() {\n",
        "    return <h2>React Lifecycle Methods</h2>;\n",
        "  }\n",
        "}\n",
        "\n",
        "export default LifeCycleDemo;\n",
        "\n",
        "```\n",
        "\n"
      ],
      "metadata": {
        "id": "fjUy-ib_B3Cb"
      }
    },
    {
      "cell_type": "markdown",
      "source": [
        "# **2. React Hooks (For Functional Components) ⚡**\n",
        "\n",
        "Hooks let you use state and lifecycle methods inside functional components.\n",
        "\n",
        "✅ Common Hooks:\n",
        "\n",
        "useState() – Manages state\n",
        "\n",
        "useEffect() – Handles side effects (API calls, event listeners, etc.)\n",
        "\n",
        "useContext() – Manages global state\n",
        "\n",
        "useRef() – Handles direct DOM manipulation"
      ],
      "metadata": {
        "id": "plvrrLprB7SE"
      }
    },
    {
      "cell_type": "markdown",
      "source": [
        " **Example: useState & useEffect Hooks**"
      ],
      "metadata": {
        "id": "3hG4Hz8cCCNw"
      }
    },
    {
      "cell_type": "markdown",
      "source": [
        "\n",
        "\n",
        "```\n",
        "import React, { useState, useEffect } from \"react\";\n",
        "\n",
        "const Counter = () => {\n",
        "  const [count, setCount] = useState(0);\n",
        "\n",
        "  useEffect(() => {\n",
        "    console.log(`Component Updated! Count: ${count}`);\n",
        "  }, [count]); // Runs only when `count` changes\n",
        "\n",
        "  return (\n",
        "    <div>\n",
        "      <h2>Count: {count}</h2>\n",
        "      <button onClick={() => setCount(count + 1)}>Increase</button>\n",
        "    </div>\n",
        "  );\n",
        "};\n",
        "\n",
        "export default Counter;\n",
        "\n",
        "```\n",
        "\n"
      ],
      "metadata": {
        "id": "7nA6XsY1CKaP"
      }
    },
    {
      "cell_type": "markdown",
      "source": [
        "# **3. Redux (State Management) 🌍**\n",
        "\n",
        "Redux is used to manage global state in large React applications.\n",
        "\n",
        "**Simple Redux Flow:**\n",
        "\n",
        "Action – Describes what to do\n",
        "\n",
        "Reducer – Updates the state based on the action\n",
        "\n",
        "Store – Holds the global state\n",
        "\n",
        "Component – Uses useSelector to read state and useDispatch to update state\n",
        "\n",
        "Example: Simple Counter using Redux"
      ],
      "metadata": {
        "id": "aIXwX0oPCOyO"
      }
    },
    {
      "cell_type": "markdown",
      "source": [
        "**Step 1: Install Redux**"
      ],
      "metadata": {
        "id": "LadCM6wyCcF5"
      }
    },
    {
      "cell_type": "markdown",
      "source": [
        "\n",
        "\n",
        "```\n",
        "npm install redux react-redux\n",
        "\n",
        "```\n",
        "\n"
      ],
      "metadata": {
        "id": "O8uVuSYoCgkc"
      }
    },
    {
      "cell_type": "markdown",
      "source": [
        "# **Step 2: Create Redux Files**\n",
        "\n",
        "📌 store.js (Global Store)\n"
      ],
      "metadata": {
        "id": "F3FSl-nECkTF"
      }
    },
    {
      "cell_type": "markdown",
      "source": [
        "\n",
        "\n",
        "```\n",
        "import { createStore } from \"redux\";\n",
        "\n",
        "const reducer = (state = { count: 0 }, action) => {\n",
        "  switch (action.type) {\n",
        "    case \"INCREMENT\":\n",
        "      return { count: state.count + 1 };\n",
        "    default:\n",
        "      return state;\n",
        "  }\n",
        "};\n",
        "\n",
        "const store = createStore(reducer);\n",
        "\n",
        "export default store;\n",
        "\n",
        "```\n",
        "\n"
      ],
      "metadata": {
        "id": "_Sifh9UDCo5H"
      }
    },
    {
      "cell_type": "markdown",
      "source": [
        "**📌 CounterComponent.js (Using Redux in React Component**"
      ],
      "metadata": {
        "id": "d8K62HinCtPA"
      }
    },
    {
      "cell_type": "markdown",
      "source": [
        "\n",
        "\n",
        "```\n",
        "import React from \"react\";\n",
        "import { useSelector, useDispatch } from \"react-redux\";\n",
        "\n",
        "const CounterComponent = () => {\n",
        "  const count = useSelector((state) => state.count);\n",
        "  const dispatch = useDispatch();\n",
        "\n",
        "  return (\n",
        "    <div>\n",
        "      <h2>Count: {count}</h2>\n",
        "      <button onClick={() => dispatch({ type: \"INCREMENT\" })}>Increase</button>\n",
        "    </div>\n",
        "  );\n",
        "};\n",
        "\n",
        "export default CounterComponent;\n",
        "\n",
        "```\n",
        "\n"
      ],
      "metadata": {
        "id": "1sdew1SBCwPY"
      }
    },
    {
      "cell_type": "markdown",
      "source": [
        "📌 index.js (Wrap App with Redux Provider)"
      ],
      "metadata": {
        "id": "tDM1YtfQC0HW"
      }
    },
    {
      "cell_type": "markdown",
      "source": [
        "\n",
        "\n",
        "```\n",
        "import React from \"react\";\n",
        "import ReactDOM from \"react-dom\";\n",
        "import { Provider } from \"react-redux\";\n",
        "import store from \"./store\";\n",
        "import CounterComponent from \"./CounterComponent\";\n",
        "\n",
        "ReactDOM.render(\n",
        "  <Provider store={store}>\n",
        "    <CounterComponent />\n",
        "  </Provider>,\n",
        "  document.getElementById(\"root\")\n",
        ");\n",
        "\n",
        "```\n",
        "\n"
      ],
      "metadata": {
        "id": "WyaQffwcC2Wg"
      }
    },
    {
      "cell_type": "markdown",
      "source": [
        "**Conclusion 🚀**\n",
        "\n",
        "Lifecycle methods (componentDidMount, componentDidUpdate, etc.) manage class component behavior.\n",
        "\n",
        "React Hooks (useState, useEffect, etc.) replace lifecycle methods in functional components.\n",
        "\n",
        "Redux is a powerful tool for global state management in large applications."
      ],
      "metadata": {
        "id": "v9PrXwLvC7Jz"
      }
    },
    {
      "cell_type": "code",
      "execution_count": null,
      "metadata": {
        "id": "6iTYZ4QE4GS5"
      },
      "outputs": [],
      "source": []
    }
  ]
}